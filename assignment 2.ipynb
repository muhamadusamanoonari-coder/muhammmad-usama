{
 "cells": [
  {
   "cell_type": "code",
   "execution_count": 5,
   "id": "d9dbda7a-5d69-4045-846b-519ab195c593",
   "metadata": {},
   "outputs": [],
   "source": [
    "import numpy as np\n",
    "\n",
    "student_data = {\n",
    "    \"st-1\": {\"Maths\": 85, \"Urdu\": 70, \"Sindhi\": 40, \"Chemistry\": 90, \"Physics\": 60},\n",
    "    \"st-2\": {\"Maths\": 70, \"Urdu\": 75, \"Sindhi\": 40, \"Chemistry\": 90, \"Physics\": 60},\n",
    "    \"st-3\": {\"Maths\": 80, \"Urdu\": 70, \"Sindhi\": 95, \"Chemistry\": 90, \"Physics\": 60},\n",
    "    \"st-4\": {\"Maths\": 80, \"Urdu\": 70, \"Sindhi\": 50, \"Chemistry\": 85, \"Physics\": 60},\n",
    "    \"st-5\": {\"Maths\": 80, \"Urdu\": 75, \"Sindhi\": 40, \"Chemistry\": 90, \"Physics\": 60}\n",
    "}\n",
    "city_temps = np.array([\n",
    "    [30, 32, 31, 29, 28, 27, 26],   # City A\n",
    "    [22, 21, 23, 24, 25, 26, 24],   # City B\n",
    "    [15, 17, 16, 18, 19, 20, 21]    # City C\n",
    "])"
   ]
  },
  {
   "cell_type": "code",
   "execution_count": 7,
   "id": "81f41a59-1b8b-4bb2-b1c1-6152cc0dc192",
   "metadata": {},
   "outputs": [
    {
     "name": "stdout",
     "output_type": "stream",
     "text": [
      "--- Weather Report ---\n",
      "1. City A's hottest day reached 32°C.\n",
      "\n",
      "2. Hottest day was Tuesday in City A at 32°C.\n",
      "\n",
      "3. Comparing A (29.0°C) and B (23.6°C): City A was warmer.\n",
      "\n",
      "--- Student Gradebook Analysis ---\n",
      "\n",
      "1. Subject Highs and Lows:\n",
      "   - Maths: Top score 85 (by st-1), lowest 70 (by st-2).\n",
      "   - Urdu: Top score 75 (by st-2), lowest 70 (by st-1).\n",
      "   - Sindhi: Top score 95 (by st-3), lowest 40 (by st-1).\n",
      "   - Chemistry: Top score 90 (by st-1), lowest 85 (by st-4).\n",
      "   - Physics: Top score 60 (by st-1), lowest 60 (by st-1).\n",
      "\n",
      "2. Individual Student Performance:\n",
      "   - st-1: Best was 90 in Chemistry, lowest 40 in Sindhi.\n",
      "   - st-2: Best was 90 in Chemistry, lowest 40 in Sindhi.\n",
      "   - st-3: Best was 95 in Sindhi, lowest 60 in Physics.\n",
      "   - st-4: Best was 85 in Chemistry, lowest 50 in Sindhi.\n",
      "   - st-5: Best was 90 in Chemistry, lowest 40 in Sindhi.\n",
      "\n",
      "3. Final Class Rankings:\n",
      "   Rank 1: st-3 with 395 total marks.\n",
      "   Rank 2: st-5 with 345 total marks.\n",
      "   Rank 3: st-4 with 345 total marks.\n",
      "   Rank 4: st-1 with 345 total marks.\n",
      "   Rank 5: st-2 with 335 total marks.\n"
     ]
    }
   ],
   "source": [
    "def analyze_temperatures(temperatures, city_names, day_names):\n",
    "    \"\"\"Analyzes and prints a friendly summary of the weather data.\"\"\"\n",
    "    print(\"--- Weather Report ---\")\n",
    "    print(f\"1. City A's hottest day reached {temperatures[0].max()}°C.\\n\")\n",
    "    city_idx, day_idx = np.unravel_index(np.argmax(temperatures), temperatures.shape)\n",
    "    print(f\"2. Hottest day was {day_names[day_idx]} in {city_names[city_idx]} at {temperatures.max()}°C.\\n\")\n",
    "\n",
    "    avg_a, avg_b = np.mean(temperatures[0]), np.mean(temperatures[1])\n",
    "    warmer = \"City A\" if avg_a > avg_b else \"City B\"\n",
    "    print(f\"3. Comparing A ({avg_a:.1f}°C) and B ({avg_b:.1f}°C): {warmer} was warmer.\\n\")\n",
    "def analyze_student_marks_array(data):\n",
    "    \"\"\"Analyzes student marks using NumPy for a concise solution.\"\"\"\n",
    "    print(\"--- Student Gradebook Analysis ---\")\n",
    "    student_ids = list(data.keys())\n",
    "    subjects = list(next(iter(data.values())).keys())\n",
    "    marks = np.array([list(s.values()) for s in data.values()])\n",
    "    print(\"\\n1. Subject Highs and Lows:\")\n",
    "    for i, subject in enumerate(subjects):\n",
    "        # Using argmax to find the index (student) with the highest score in each subject column\n",
    "        max_idx, min_idx = marks[:, i].argmax(), marks[:, i].argmin()\n",
    "        print(f\"   - {subject}: Top score {marks[max_idx, i]} (by {student_ids[max_idx]}), lowest {marks[min_idx, i]} (by {student_ids[min_idx]}).\")\n",
    "\n",
    "    print(\"\\n2. Individual Student Performance:\")\n",
    "    for i, student_id in enumerate(student_ids):\n",
    "        # Using argmax to find the index (subject) with the highest score in each student's row\n",
    "        max_idx, min_idx = marks[i].argmax(), marks[i].argmin()\n",
    "        print(f\"   - {student_id}: Best was {marks[i, max_idx]} in {subjects[max_idx]}, lowest {marks[i, min_idx]} in {subjects[min_idx]}.\")\n",
    "\n",
    "    print(\"\\n3. Final Class Rankings:\")\n",
    "    totals = marks.sum(axis=1)\n",
    "    # argsort gives indices to sort the array. We reverse it for highest to lowest.\n",
    "    for rank, i in enumerate(np.argsort(totals)[::-1], 1):\n",
    "        print(f\"   Rank {rank}: {student_ids[i]} with {totals[i]} total marks.\")\n",
    "if __name__ == \"__main__\":\n",
    "    days = [\"Monday\", \"Tuesday\", \"Wednesday\", \"Thursday\", \"Friday\", \"Saturday\", \"Sunday\"]\n",
    "    cities = [\"City A\", \"City B\", \"City C\"]\n",
    "    analyze_temperatures(city_temps, cities, days)\n",
    "    analyze_student_marks_array(student_data)\n",
    "\n"
   ]
  },
  {
   "cell_type": "code",
   "execution_count": null,
   "id": "16a9b0df-44e7-4986-a75d-1dc19bac8aa7",
   "metadata": {},
   "outputs": [],
   "source": []
  }
 ],
 "metadata": {
  "kernelspec": {
   "display_name": "Python 3 (ipykernel)",
   "language": "python",
   "name": "python3"
  },
  "language_info": {
   "codemirror_mode": {
    "name": "ipython",
    "version": 3
   },
   "file_extension": ".py",
   "mimetype": "text/x-python",
   "name": "python",
   "nbconvert_exporter": "python",
   "pygments_lexer": "ipython3",
   "version": "3.13.3"
  }
 },
 "nbformat": 4,
 "nbformat_minor": 5
}
