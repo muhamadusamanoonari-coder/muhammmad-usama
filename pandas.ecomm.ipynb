{
 "cells": [
  {
   "cell_type": "code",
   "execution_count": 5,
   "id": "ef4ea26c-05b8-4dfd-969e-3d311acc558a",
   "metadata": {},
   "outputs": [],
   "source": [
    "import pandas as pd"
   ]
  },
  {
   "cell_type": "code",
   "execution_count": 6,
   "id": "efa513ac-f815-43b6-abda-b2d879ec53bb",
   "metadata": {},
   "outputs": [],
   "source": [
    "customers = pd.read_csv('customers.csv')"
   ]
  },
  {
   "cell_type": "code",
   "execution_count": 7,
   "id": "0d2c4cd2-b030-41f6-b5a7-4013428325bc",
   "metadata": {},
   "outputs": [],
   "source": [
    "orders = pd.read_csv('orders.csv')"
   ]
  },
  {
   "cell_type": "code",
   "execution_count": 8,
   "id": "f3a44348-55f7-4de1-8d5f-35e34a46c4d7",
   "metadata": {},
   "outputs": [],
   "source": [
    "products = pd.read_csv('products.csv')"
   ]
  },
  {
   "cell_type": "code",
   "execution_count": 9,
   "id": "d50e8d4d-2ed9-49aa-8bcb-8abdc490ae7f",
   "metadata": {},
   "outputs": [
    {
     "data": {
      "text/html": [
       "<div>\n",
       "<style scoped>\n",
       "    .dataframe tbody tr th:only-of-type {\n",
       "        vertical-align: middle;\n",
       "    }\n",
       "\n",
       "    .dataframe tbody tr th {\n",
       "        vertical-align: top;\n",
       "    }\n",
       "\n",
       "    .dataframe thead th {\n",
       "        text-align: right;\n",
       "    }\n",
       "</style>\n",
       "<table border=\"1\" class=\"dataframe\">\n",
       "  <thead>\n",
       "    <tr style=\"text-align: right;\">\n",
       "      <th></th>\n",
       "      <th>product_id</th>\n",
       "      <th>product_name</th>\n",
       "      <th>category</th>\n",
       "      <th>price</th>\n",
       "    </tr>\n",
       "  </thead>\n",
       "  <tbody>\n",
       "    <tr>\n",
       "      <th>0</th>\n",
       "      <td>P001</td>\n",
       "      <td>Stage</td>\n",
       "      <td>Clothing</td>\n",
       "      <td>534.93</td>\n",
       "    </tr>\n",
       "    <tr>\n",
       "      <th>1</th>\n",
       "      <td>P002</td>\n",
       "      <td>Least</td>\n",
       "      <td>Accessories</td>\n",
       "      <td>56.56</td>\n",
       "    </tr>\n",
       "    <tr>\n",
       "      <th>2</th>\n",
       "      <td>P003</td>\n",
       "      <td>Number</td>\n",
       "      <td>Home</td>\n",
       "      <td>339.92</td>\n",
       "    </tr>\n",
       "    <tr>\n",
       "      <th>3</th>\n",
       "      <td>P004</td>\n",
       "      <td>Evening</td>\n",
       "      <td>Clothing</td>\n",
       "      <td>138.74</td>\n",
       "    </tr>\n",
       "    <tr>\n",
       "      <th>4</th>\n",
       "      <td>P005</td>\n",
       "      <td>Protect</td>\n",
       "      <td>Footwear</td>\n",
       "      <td>68.06</td>\n",
       "    </tr>\n",
       "  </tbody>\n",
       "</table>\n",
       "</div>"
      ],
      "text/plain": [
       "  product_id product_name     category   price\n",
       "0       P001        Stage     Clothing  534.93\n",
       "1       P002        Least  Accessories   56.56\n",
       "2       P003       Number         Home  339.92\n",
       "3       P004      Evening     Clothing  138.74\n",
       "4       P005      Protect     Footwear   68.06"
      ]
     },
     "execution_count": 9,
     "metadata": {},
     "output_type": "execute_result"
    }
   ],
   "source": [
    "products.head()"
   ]
  },
  {
   "cell_type": "code",
   "execution_count": 10,
   "id": "07954f25-57ec-4309-9c09-5fecc4f66456",
   "metadata": {},
   "outputs": [
    {
     "data": {
      "text/html": [
       "<div>\n",
       "<style scoped>\n",
       "    .dataframe tbody tr th:only-of-type {\n",
       "        vertical-align: middle;\n",
       "    }\n",
       "\n",
       "    .dataframe tbody tr th {\n",
       "        vertical-align: top;\n",
       "    }\n",
       "\n",
       "    .dataframe thead th {\n",
       "        text-align: right;\n",
       "    }\n",
       "</style>\n",
       "<table border=\"1\" class=\"dataframe\">\n",
       "  <thead>\n",
       "    <tr style=\"text-align: right;\">\n",
       "      <th></th>\n",
       "      <th>customer_id</th>\n",
       "      <th>name</th>\n",
       "      <th>age</th>\n",
       "      <th>gender</th>\n",
       "      <th>city</th>\n",
       "    </tr>\n",
       "  </thead>\n",
       "  <tbody>\n",
       "    <tr>\n",
       "      <th>0</th>\n",
       "      <td>C0001</td>\n",
       "      <td>Jennifer</td>\n",
       "      <td>56</td>\n",
       "      <td>Male</td>\n",
       "      <td>Morrisonmouth</td>\n",
       "    </tr>\n",
       "    <tr>\n",
       "      <th>1</th>\n",
       "      <td>C0002</td>\n",
       "      <td>William</td>\n",
       "      <td>46</td>\n",
       "      <td>Male</td>\n",
       "      <td>Port Charlesshire</td>\n",
       "    </tr>\n",
       "    <tr>\n",
       "      <th>2</th>\n",
       "      <td>C0003</td>\n",
       "      <td>Ellen</td>\n",
       "      <td>32</td>\n",
       "      <td>Male</td>\n",
       "      <td>South Thomasmouth</td>\n",
       "    </tr>\n",
       "    <tr>\n",
       "      <th>3</th>\n",
       "      <td>C0004</td>\n",
       "      <td>Sheri</td>\n",
       "      <td>60</td>\n",
       "      <td>Male</td>\n",
       "      <td>West Megan</td>\n",
       "    </tr>\n",
       "    <tr>\n",
       "      <th>4</th>\n",
       "      <td>C0005</td>\n",
       "      <td>Taylor</td>\n",
       "      <td>25</td>\n",
       "      <td>Male</td>\n",
       "      <td>Josephland</td>\n",
       "    </tr>\n",
       "  </tbody>\n",
       "</table>\n",
       "</div>"
      ],
      "text/plain": [
       "  customer_id      name  age gender               city\n",
       "0       C0001  Jennifer   56   Male      Morrisonmouth\n",
       "1       C0002   William   46   Male  Port Charlesshire\n",
       "2       C0003     Ellen   32   Male  South Thomasmouth\n",
       "3       C0004     Sheri   60   Male         West Megan\n",
       "4       C0005    Taylor   25   Male         Josephland"
      ]
     },
     "execution_count": 10,
     "metadata": {},
     "output_type": "execute_result"
    }
   ],
   "source": [
    "customers.head()"
   ]
  },
  {
   "cell_type": "code",
   "execution_count": 11,
   "id": "ddb12749-0f32-4a9c-8b06-db95ac025606",
   "metadata": {},
   "outputs": [
    {
     "data": {
      "text/html": [
       "<div>\n",
       "<style scoped>\n",
       "    .dataframe tbody tr th:only-of-type {\n",
       "        vertical-align: middle;\n",
       "    }\n",
       "\n",
       "    .dataframe tbody tr th {\n",
       "        vertical-align: top;\n",
       "    }\n",
       "\n",
       "    .dataframe thead th {\n",
       "        text-align: right;\n",
       "    }\n",
       "</style>\n",
       "<table border=\"1\" class=\"dataframe\">\n",
       "  <thead>\n",
       "    <tr style=\"text-align: right;\">\n",
       "      <th></th>\n",
       "      <th>order_id</th>\n",
       "      <th>customer_id</th>\n",
       "      <th>product_id</th>\n",
       "      <th>quantity</th>\n",
       "      <th>order_date</th>\n",
       "    </tr>\n",
       "  </thead>\n",
       "  <tbody>\n",
       "    <tr>\n",
       "      <th>0</th>\n",
       "      <td>O00001</td>\n",
       "      <td>C0333</td>\n",
       "      <td>P022</td>\n",
       "      <td>1</td>\n",
       "      <td>2022-01-09</td>\n",
       "    </tr>\n",
       "    <tr>\n",
       "      <th>1</th>\n",
       "      <td>O00002</td>\n",
       "      <td>C0068</td>\n",
       "      <td>P090</td>\n",
       "      <td>1</td>\n",
       "      <td>2022-01-27</td>\n",
       "    </tr>\n",
       "    <tr>\n",
       "      <th>2</th>\n",
       "      <td>O00003</td>\n",
       "      <td>C0483</td>\n",
       "      <td>P021</td>\n",
       "      <td>1</td>\n",
       "      <td>2022-01-17</td>\n",
       "    </tr>\n",
       "    <tr>\n",
       "      <th>3</th>\n",
       "      <td>O00004</td>\n",
       "      <td>C0214</td>\n",
       "      <td>P076</td>\n",
       "      <td>4</td>\n",
       "      <td>2022-01-07</td>\n",
       "    </tr>\n",
       "    <tr>\n",
       "      <th>4</th>\n",
       "      <td>O00005</td>\n",
       "      <td>C0411</td>\n",
       "      <td>P073</td>\n",
       "      <td>4</td>\n",
       "      <td>2022-01-12</td>\n",
       "    </tr>\n",
       "  </tbody>\n",
       "</table>\n",
       "</div>"
      ],
      "text/plain": [
       "  order_id customer_id product_id  quantity  order_date\n",
       "0   O00001       C0333       P022         1  2022-01-09\n",
       "1   O00002       C0068       P090         1  2022-01-27\n",
       "2   O00003       C0483       P021         1  2022-01-17\n",
       "3   O00004       C0214       P076         4  2022-01-07\n",
       "4   O00005       C0411       P073         4  2022-01-12"
      ]
     },
     "execution_count": 11,
     "metadata": {},
     "output_type": "execute_result"
    }
   ],
   "source": [
    "orders.head()"
   ]
  },
  {
   "cell_type": "code",
   "execution_count": 12,
   "id": "07dbcb7c-d7a4-4837-a263-8bd3ac8bb983",
   "metadata": {},
   "outputs": [
    {
     "name": "stdout",
     "output_type": "stream",
     "text": [
      "<class 'pandas.core.frame.DataFrame'>\n",
      "RangeIndex: 2584 entries, 0 to 2583\n",
      "Data columns (total 5 columns):\n",
      " #   Column       Non-Null Count  Dtype \n",
      "---  ------       --------------  ----- \n",
      " 0   order_id     2584 non-null   object\n",
      " 1   customer_id  2584 non-null   object\n",
      " 2   product_id   2584 non-null   object\n",
      " 3   quantity     2584 non-null   int64 \n",
      " 4   order_date   2584 non-null   object\n",
      "dtypes: int64(1), object(4)\n",
      "memory usage: 101.1+ KB\n"
     ]
    }
   ],
   "source": [
    "orders.info()"
   ]
  },
  {
   "cell_type": "code",
   "execution_count": 13,
   "id": "4046420d-07e0-47e4-a96f-21dccd3c8c03",
   "metadata": {},
   "outputs": [
    {
     "data": {
      "text/plain": [
       "0       2022-01-09\n",
       "1       2022-01-27\n",
       "2       2022-01-17\n",
       "3       2022-01-07\n",
       "4       2022-01-12\n",
       "           ...    \n",
       "2579    2024-12-22\n",
       "2580    2024-12-05\n",
       "2581    2024-12-12\n",
       "2582    2024-12-16\n",
       "2583    2024-12-01\n",
       "Name: order_date, Length: 2584, dtype: object"
      ]
     },
     "execution_count": 13,
     "metadata": {},
     "output_type": "execute_result"
    }
   ],
   "source": [
    "orders.order_date"
   ]
  },
  {
   "cell_type": "code",
   "execution_count": 14,
   "id": "86cd92b6-3cad-4c06-8e0f-f99c61c67bad",
   "metadata": {},
   "outputs": [
    {
     "data": {
      "text/plain": [
       "0      2022-01-09\n",
       "1      2022-01-27\n",
       "2      2022-01-17\n",
       "3      2022-01-07\n",
       "4      2022-01-12\n",
       "          ...    \n",
       "2579   2024-12-22\n",
       "2580   2024-12-05\n",
       "2581   2024-12-12\n",
       "2582   2024-12-16\n",
       "2583   2024-12-01\n",
       "Name: order_date, Length: 2584, dtype: datetime64[ns]"
      ]
     },
     "execution_count": 14,
     "metadata": {},
     "output_type": "execute_result"
    }
   ],
   "source": [
    "pd.to_datetime(orders.order_date)"
   ]
  },
  {
   "cell_type": "code",
   "execution_count": 15,
   "id": "4d183971-d031-415b-844c-0c52771746ec",
   "metadata": {},
   "outputs": [],
   "source": [
    "orders.order_date = pd.to_datetime(orders.order_date)"
   ]
  },
  {
   "cell_type": "code",
   "execution_count": 16,
   "id": "560761c5-dace-43a7-b2cb-e8d54eaffc36",
   "metadata": {},
   "outputs": [],
   "source": [
    "top_products =orders[orders['order_date'].dt.year == 2022]['product_id'].value_counts()"
   ]
  },
  {
   "cell_type": "code",
   "execution_count": 17,
   "id": "b8639fa8-eeba-4904-a82f-6298a47e1908",
   "metadata": {},
   "outputs": [
    {
     "data": {
      "text/plain": [
       "product_id\n",
       "P059    17\n",
       "P090    15\n",
       "P041    15\n",
       "P099    15\n",
       "P022    14\n",
       "        ..\n",
       "P032     4\n",
       "P054     3\n",
       "P023     3\n",
       "P040     3\n",
       "P005     3\n",
       "Name: count, Length: 100, dtype: int64"
      ]
     },
     "execution_count": 17,
     "metadata": {},
     "output_type": "execute_result"
    }
   ],
   "source": [
    "top_products"
   ]
  },
  {
   "cell_type": "code",
   "execution_count": 18,
   "id": "3a041f5a-3d8f-4962-a463-6e4a8ca59be9",
   "metadata": {},
   "outputs": [
    {
     "data": {
      "text/plain": [
       "58    Network\n",
       "Name: product_name, dtype: object"
      ]
     },
     "execution_count": 18,
     "metadata": {},
     "output_type": "execute_result"
    }
   ],
   "source": [
    "products[products['product_id'] == top_products.index[0]]['product_name']"
   ]
  },
  {
   "cell_type": "code",
   "execution_count": 19,
   "id": "24149ce9-10e5-48af-a2d6-699112d1cbba",
   "metadata": {},
   "outputs": [],
   "source": [
    "merged_orders = orders.merge(products[['product_id','price']], on = 'product_id',how='left')"
   ]
  },
  {
   "cell_type": "code",
   "execution_count": 20,
   "id": "48eb988b-238c-4501-99aa-108ccb5ff8fa",
   "metadata": {},
   "outputs": [],
   "source": [
    "merged_orders['total_price']=merged_orders.quantity*merged_orders.price"
   ]
  },
  {
   "cell_type": "code",
   "execution_count": 21,
   "id": "1bb084bd-3365-4fc8-a274-2289effbc362",
   "metadata": {
    "scrolled": true
   },
   "outputs": [
    {
     "data": {
      "text/html": [
       "<div>\n",
       "<style scoped>\n",
       "    .dataframe tbody tr th:only-of-type {\n",
       "        vertical-align: middle;\n",
       "    }\n",
       "\n",
       "    .dataframe tbody tr th {\n",
       "        vertical-align: top;\n",
       "    }\n",
       "\n",
       "    .dataframe thead th {\n",
       "        text-align: right;\n",
       "    }\n",
       "</style>\n",
       "<table border=\"1\" class=\"dataframe\">\n",
       "  <thead>\n",
       "    <tr style=\"text-align: right;\">\n",
       "      <th></th>\n",
       "      <th>order_id</th>\n",
       "      <th>customer_id</th>\n",
       "      <th>product_id</th>\n",
       "      <th>quantity</th>\n",
       "      <th>order_date</th>\n",
       "      <th>price</th>\n",
       "      <th>total_price</th>\n",
       "    </tr>\n",
       "  </thead>\n",
       "  <tbody>\n",
       "    <tr>\n",
       "      <th>0</th>\n",
       "      <td>O00001</td>\n",
       "      <td>C0333</td>\n",
       "      <td>P022</td>\n",
       "      <td>1</td>\n",
       "      <td>2022-01-09</td>\n",
       "      <td>185.33</td>\n",
       "      <td>185.33</td>\n",
       "    </tr>\n",
       "    <tr>\n",
       "      <th>1</th>\n",
       "      <td>O00002</td>\n",
       "      <td>C0068</td>\n",
       "      <td>P090</td>\n",
       "      <td>1</td>\n",
       "      <td>2022-01-27</td>\n",
       "      <td>947.55</td>\n",
       "      <td>947.55</td>\n",
       "    </tr>\n",
       "    <tr>\n",
       "      <th>2</th>\n",
       "      <td>O00003</td>\n",
       "      <td>C0483</td>\n",
       "      <td>P021</td>\n",
       "      <td>1</td>\n",
       "      <td>2022-01-17</td>\n",
       "      <td>938.65</td>\n",
       "      <td>938.65</td>\n",
       "    </tr>\n",
       "    <tr>\n",
       "      <th>3</th>\n",
       "      <td>O00004</td>\n",
       "      <td>C0214</td>\n",
       "      <td>P076</td>\n",
       "      <td>4</td>\n",
       "      <td>2022-01-07</td>\n",
       "      <td>154.17</td>\n",
       "      <td>616.68</td>\n",
       "    </tr>\n",
       "    <tr>\n",
       "      <th>4</th>\n",
       "      <td>O00005</td>\n",
       "      <td>C0411</td>\n",
       "      <td>P073</td>\n",
       "      <td>4</td>\n",
       "      <td>2022-01-12</td>\n",
       "      <td>131.85</td>\n",
       "      <td>527.40</td>\n",
       "    </tr>\n",
       "    <tr>\n",
       "      <th>...</th>\n",
       "      <td>...</td>\n",
       "      <td>...</td>\n",
       "      <td>...</td>\n",
       "      <td>...</td>\n",
       "      <td>...</td>\n",
       "      <td>...</td>\n",
       "      <td>...</td>\n",
       "    </tr>\n",
       "    <tr>\n",
       "      <th>2579</th>\n",
       "      <td>O02580</td>\n",
       "      <td>C0237</td>\n",
       "      <td>P098</td>\n",
       "      <td>5</td>\n",
       "      <td>2024-12-22</td>\n",
       "      <td>567.31</td>\n",
       "      <td>2836.55</td>\n",
       "    </tr>\n",
       "    <tr>\n",
       "      <th>2580</th>\n",
       "      <td>O02581</td>\n",
       "      <td>C0236</td>\n",
       "      <td>P007</td>\n",
       "      <td>1</td>\n",
       "      <td>2024-12-05</td>\n",
       "      <td>325.74</td>\n",
       "      <td>325.74</td>\n",
       "    </tr>\n",
       "    <tr>\n",
       "      <th>2581</th>\n",
       "      <td>O02582</td>\n",
       "      <td>C0029</td>\n",
       "      <td>P035</td>\n",
       "      <td>1</td>\n",
       "      <td>2024-12-12</td>\n",
       "      <td>362.04</td>\n",
       "      <td>362.04</td>\n",
       "    </tr>\n",
       "    <tr>\n",
       "      <th>2582</th>\n",
       "      <td>O02583</td>\n",
       "      <td>C0171</td>\n",
       "      <td>P077</td>\n",
       "      <td>1</td>\n",
       "      <td>2024-12-16</td>\n",
       "      <td>233.11</td>\n",
       "      <td>233.11</td>\n",
       "    </tr>\n",
       "    <tr>\n",
       "      <th>2583</th>\n",
       "      <td>O02584</td>\n",
       "      <td>C0421</td>\n",
       "      <td>P038</td>\n",
       "      <td>5</td>\n",
       "      <td>2024-12-01</td>\n",
       "      <td>817.52</td>\n",
       "      <td>4087.60</td>\n",
       "    </tr>\n",
       "  </tbody>\n",
       "</table>\n",
       "<p>2584 rows × 7 columns</p>\n",
       "</div>"
      ],
      "text/plain": [
       "     order_id customer_id product_id  quantity order_date   price  total_price\n",
       "0      O00001       C0333       P022         1 2022-01-09  185.33       185.33\n",
       "1      O00002       C0068       P090         1 2022-01-27  947.55       947.55\n",
       "2      O00003       C0483       P021         1 2022-01-17  938.65       938.65\n",
       "3      O00004       C0214       P076         4 2022-01-07  154.17       616.68\n",
       "4      O00005       C0411       P073         4 2022-01-12  131.85       527.40\n",
       "...       ...         ...        ...       ...        ...     ...          ...\n",
       "2579   O02580       C0237       P098         5 2024-12-22  567.31      2836.55\n",
       "2580   O02581       C0236       P007         1 2024-12-05  325.74       325.74\n",
       "2581   O02582       C0029       P035         1 2024-12-12  362.04       362.04\n",
       "2582   O02583       C0171       P077         1 2024-12-16  233.11       233.11\n",
       "2583   O02584       C0421       P038         5 2024-12-01  817.52      4087.60\n",
       "\n",
       "[2584 rows x 7 columns]"
      ]
     },
     "execution_count": 21,
     "metadata": {},
     "output_type": "execute_result"
    }
   ],
   "source": [
    "merged_orders"
   ]
  },
  {
   "cell_type": "code",
   "execution_count": 22,
   "id": "0293d2b5-bd02-4612-a63f-f9d834590e10",
   "metadata": {},
   "outputs": [],
   "source": [
    "orders_2022 = merged_orders[merged_orders['order_date'].dt.year == 2022]"
   ]
  },
  {
   "cell_type": "code",
   "execution_count": 23,
   "id": "afe6b37e-9eba-4b3f-8d5a-9cc3ebc66ff7",
   "metadata": {},
   "outputs": [
    {
     "data": {
      "text/plain": [
       "np.int64(6)"
      ]
     },
     "execution_count": 23,
     "metadata": {},
     "output_type": "execute_result"
    }
   ],
   "source": [
    "orders_2022.customer_id.value_counts().max()"
   ]
  },
  {
   "cell_type": "code",
   "execution_count": 24,
   "id": "67d2fadb-38de-4c62-9581-0dde40624b59",
   "metadata": {},
   "outputs": [
    {
     "data": {
      "text/plain": [
       "'C0028'"
      ]
     },
     "execution_count": 24,
     "metadata": {},
     "output_type": "execute_result"
    }
   ],
   "source": [
    "orders_2022.customer_id.value_counts().index[0]"
   ]
  },
  {
   "cell_type": "code",
   "execution_count": 25,
   "id": "6a9853a0-c026-45ff-a008-b9803896d35c",
   "metadata": {},
   "outputs": [
    {
     "data": {
      "text/html": [
       "<div>\n",
       "<style scoped>\n",
       "    .dataframe tbody tr th:only-of-type {\n",
       "        vertical-align: middle;\n",
       "    }\n",
       "\n",
       "    .dataframe tbody tr th {\n",
       "        vertical-align: top;\n",
       "    }\n",
       "\n",
       "    .dataframe thead th {\n",
       "        text-align: right;\n",
       "    }\n",
       "</style>\n",
       "<table border=\"1\" class=\"dataframe\">\n",
       "  <thead>\n",
       "    <tr style=\"text-align: right;\">\n",
       "      <th></th>\n",
       "      <th>customer_id</th>\n",
       "      <th>name</th>\n",
       "      <th>age</th>\n",
       "      <th>gender</th>\n",
       "      <th>city</th>\n",
       "    </tr>\n",
       "  </thead>\n",
       "  <tbody>\n",
       "    <tr>\n",
       "      <th>27</th>\n",
       "      <td>C0028</td>\n",
       "      <td>Crystal</td>\n",
       "      <td>61</td>\n",
       "      <td>Male</td>\n",
       "      <td>Theodoreland</td>\n",
       "    </tr>\n",
       "  </tbody>\n",
       "</table>\n",
       "</div>"
      ],
      "text/plain": [
       "   customer_id     name  age gender          city\n",
       "27       C0028  Crystal   61   Male  Theodoreland"
      ]
     },
     "execution_count": 25,
     "metadata": {},
     "output_type": "execute_result"
    }
   ],
   "source": [
    "customers[customers['customer_id']==orders_2022.customer_id.value_counts().index[0]]"
   ]
  },
  {
   "cell_type": "code",
   "execution_count": 26,
   "id": "b18ec2e0-1708-4758-aa28-fc4594c5bd47",
   "metadata": {},
   "outputs": [],
   "source": [
    "revenue = merged_orders['total_price'].sum()"
   ]
  },
  {
   "cell_type": "code",
   "execution_count": 27,
   "id": "6f67069a-8eb6-48f1-97da-df02a018daea",
   "metadata": {},
   "outputs": [
    {
     "data": {
      "text/plain": [
       "np.float64(4134260.59)"
      ]
     },
     "execution_count": 27,
     "metadata": {},
     "output_type": "execute_result"
    }
   ],
   "source": [
    "revenue"
   ]
  },
  {
   "cell_type": "code",
   "execution_count": 38,
   "id": "5b1cea0d-550b-4382-89d8-8d2cbf686b92",
   "metadata": {},
   "outputs": [],
   "source": [
    "customer_counts = merged_orders['customer_id'].value_counts()"
   ]
  },
  {
   "cell_type": "code",
   "execution_count": 39,
   "id": "45b620c4-45c3-4acb-a64a-4a241fbb6372",
   "metadata": {},
   "outputs": [
    {
     "data": {
      "text/plain": [
       "customer_id\n",
       "C0028    13\n",
       "C0113    13\n",
       "C0243    12\n",
       "C0475    11\n",
       "C0108    11\n",
       "         ..\n",
       "C0279     1\n",
       "C0260     1\n",
       "C0152     1\n",
       "C0400     1\n",
       "C0263     1\n",
       "Name: count, Length: 498, dtype: int64"
      ]
     },
     "execution_count": 39,
     "metadata": {},
     "output_type": "execute_result"
    }
   ],
   "source": [
    "customer_counts"
   ]
  },
  {
   "cell_type": "code",
   "execution_count": 40,
   "id": "b3b98a77-ce57-4f92-9e7b-ff1e8e7c6b5f",
   "metadata": {},
   "outputs": [],
   "source": [
    "top_product_id = orders['product_id'].value_counts().idxmax()"
   ]
  },
  {
   "cell_type": "code",
   "execution_count": 41,
   "id": "1a071bf4-95cd-422a-9568-0b97a63fac5a",
   "metadata": {},
   "outputs": [
    {
     "data": {
      "text/plain": [
       "'P041'"
      ]
     },
     "execution_count": 41,
     "metadata": {},
     "output_type": "execute_result"
    }
   ],
   "source": [
    "top_product_id"
   ]
  },
  {
   "cell_type": "code",
   "execution_count": 42,
   "id": "ac56d193-3338-4ae7-afb4-297c69e00692",
   "metadata": {},
   "outputs": [],
   "source": [
    "least_sold_product_id = orders['product_id'].value_counts().idxmin()"
   ]
  },
  {
   "cell_type": "code",
   "execution_count": 49,
   "id": "322e1ca8-12c1-472d-a635-760b1cbcacc5",
   "metadata": {},
   "outputs": [],
   "source": [
    "yearly_sales_mean = merged_orders.groupby(merged_orders['order_date'].dt.year)['total_price'].mean()"
   ]
  },
  {
   "cell_type": "code",
   "execution_count": 55,
   "id": "818c10b1-b488-4050-9d8f-4d86f9bc5a0f",
   "metadata": {},
   "outputs": [
    {
     "data": {
      "text/plain": [
       "order_date\n",
       "2022    1639.493213\n",
       "2023    1611.548712\n",
       "2024    1547.703365\n",
       "Name: total_price, dtype: float64"
      ]
     },
     "execution_count": 55,
     "metadata": {},
     "output_type": "execute_result"
    }
   ],
   "source": [
    "yearly_sales_mean"
   ]
  },
  {
   "cell_type": "code",
   "execution_count": 51,
   "id": "6a74587b-9f3e-4ee9-849b-0c251ef6beec",
   "metadata": {},
   "outputs": [],
   "source": [
    "monthly_sales = merged_orders.groupby(merged_orders['order_date'].dt.to_period('M'))['total_price'].mean()"
   ]
  },
  {
   "cell_type": "code",
   "execution_count": 52,
   "id": "d3f9291c-8f06-4145-bc69-7054c0f3f858",
   "metadata": {},
   "outputs": [
    {
     "data": {
      "text/plain": [
       "order_date\n",
       "2022-01    1763.705354\n",
       "2022-02    1776.073784\n",
       "2022-03    1573.116489\n",
       "2022-04    1814.901091\n",
       "2022-05    1483.703800\n",
       "2022-06    1594.738354\n",
       "2022-07    1656.527759\n",
       "2022-08    1603.166875\n",
       "2022-09    1696.704643\n",
       "2022-10    1332.971695\n",
       "2022-11    1684.349620\n",
       "2022-12    1609.776393\n",
       "2023-01    1471.978243\n",
       "2023-02    1765.162632\n",
       "2023-03    1487.677753\n",
       "2023-04    1606.954118\n",
       "2023-05    1629.408878\n",
       "2023-06    1613.716400\n",
       "2023-07    1699.299403\n",
       "2023-08    1517.755309\n",
       "2023-09    1750.488947\n",
       "2023-10    1616.637126\n",
       "2023-11    1726.512564\n",
       "2023-12    1555.695765\n",
       "2024-01    1427.680500\n",
       "2024-02    1656.206705\n",
       "2024-03    1372.618333\n",
       "2024-04    1663.550959\n",
       "2024-05    1572.510667\n",
       "2024-06    1769.518750\n",
       "2024-07    1328.875556\n",
       "2024-08    1563.042642\n",
       "2024-09    1619.434026\n",
       "2024-10    1483.996429\n",
       "2024-11    1332.746588\n",
       "2024-12    1779.846462\n",
       "Freq: M, Name: total_price, dtype: float64"
      ]
     },
     "execution_count": 52,
     "metadata": {},
     "output_type": "execute_result"
    }
   ],
   "source": [
    "monthly_sales"
   ]
  },
  {
   "cell_type": "code",
   "execution_count": null,
   "id": "7b672a0f-7bdb-4357-bc04-a9368d46caa7",
   "metadata": {},
   "outputs": [],
   "source": []
  }
 ],
 "metadata": {
  "kernelspec": {
   "display_name": "Python 3 (ipykernel)",
   "language": "python",
   "name": "python3"
  },
  "language_info": {
   "codemirror_mode": {
    "name": "ipython",
    "version": 3
   },
   "file_extension": ".py",
   "mimetype": "text/x-python",
   "name": "python",
   "nbconvert_exporter": "python",
   "pygments_lexer": "ipython3",
   "version": "3.13.3"
  }
 },
 "nbformat": 4,
 "nbformat_minor": 5
}
